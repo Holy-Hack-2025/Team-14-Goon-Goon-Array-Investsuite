{
 "cells": [
  {
   "cell_type": "code",
   "execution_count": null,
   "metadata": {},
   "outputs": [],
   "source": [
    "import pandas as pd\n",
    "import numpy as np\n",
    "import matplotlib.pyplot as plt"
   ]
  },
  {
   "cell_type": "code",
   "execution_count": null,
   "metadata": {},
   "outputs": [
    {
     "name": "stdout",
     "output_type": "stream",
     "text": [
      "\n",
      "Random December values for 2021-2024:\n",
      "\n",
      "MSFT:\n",
      "2021: $325.54\n",
      "2022: $252.27\n",
      "2023: $371.13\n",
      "2024: $448.09\n",
      "\n",
      "V:\n",
      "2021: $212.31\n",
      "2022: $204.22\n",
      "2023: $259.95\n",
      "2024: $320.11\n",
      "\n",
      "JNJ:\n",
      "2021: $144.94\n",
      "2022: $165.83\n",
      "2023: $150.72\n",
      "2024: $153.57\n",
      "\n",
      "UNH:\n",
      "2021: $472.41\n",
      "2022: $516.77\n",
      "2023: $538.99\n",
      "2024: $603.62\n",
      "\n",
      "MPC:\n",
      "2021: $58.33\n",
      "2022: $110.61\n",
      "2023: $142.91\n",
      "2024: $150.08\n",
      "\n",
      "TSLA:\n",
      "2021: $352.26\n",
      "2022: $182.45\n",
      "2023: $253.50\n",
      "2024: $418.10\n"
     ]
    }
   ],
   "source": [
    "import pandas as pd\n",
    "import numpy as np\n",
    "from datetime import datetime, timedelta\n",
    "import yfinance as yf\n",
    "\n",
    "# Define tickers\n",
    "tickers = [\"WMT\", \"JPM\", \"IBM\"]\n",
    "all_december_values = {}\n",
    "\n",
    "for ticker in tickers:\n",
    "    # Get data directly from yfinance\n",
    "    stock = yf.Ticker(ticker)\n",
    "    df = stock.history(start='2021-01-01', end='2024-12-31')\n",
    "    df.index = pd.to_datetime(df.index)\n",
    "    \n",
    "    # Initialize list to store values for this ticker\n",
    "    december_values = []\n",
    "    \n",
    "    # Get random December values for each year from 2021 to 2024\n",
    "    for year in range(2021, 2025):\n",
    "        december_records = df[\n",
    "            (df.index.month == 12) & \n",
    "            (df.index.year == year)\n",
    "        ]\n",
    "        \n",
    "        if not december_records.empty:\n",
    "            random_record = december_records.sample(n=1)\n",
    "            december_values.append(random_record['Close'].iloc[0])\n",
    "        else:\n",
    "            december_values.append(None)\n",
    "    \n",
    "    all_december_values[ticker] = december_values\n",
    "\n",
    "# Print the results\n",
    "print(\"\\nRandom December values for 2021-2024:\")\n",
    "for ticker in tickers:\n",
    "    print(f\"\\n{ticker}:\")\n",
    "    for year, value in zip(range(2021, 2025), all_december_values[ticker]):\n",
    "        if value is not None:\n",
    "            print(f\"{year}: ${value:.2f}\")\n",
    "        else:\n",
    "            print(f\"{year}: No data available\")"
   ]
  }
 ],
 "metadata": {
  "kernelspec": {
   "display_name": "venv",
   "language": "python",
   "name": "python3"
  },
  "language_info": {
   "codemirror_mode": {
    "name": "ipython",
    "version": 3
   },
   "file_extension": ".py",
   "mimetype": "text/x-python",
   "name": "python",
   "nbconvert_exporter": "python",
   "pygments_lexer": "ipython3",
   "version": "3.12.6"
  }
 },
 "nbformat": 4,
 "nbformat_minor": 2
}
