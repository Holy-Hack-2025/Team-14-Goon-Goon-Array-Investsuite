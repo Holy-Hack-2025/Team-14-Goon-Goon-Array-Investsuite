{
 "cells": [
  {
   "cell_type": "code",
   "execution_count": 5,
   "metadata": {},
   "outputs": [
    {
     "name": "stdout",
     "output_type": "stream",
     "text": [
      "\n",
      "Final Dataset (Top 5 rows):\n"
     ]
    },
    {
     "data": {
      "text/html": [
       "<div>\n",
       "<style scoped>\n",
       "    .dataframe tbody tr th:only-of-type {\n",
       "        vertical-align: middle;\n",
       "    }\n",
       "\n",
       "    .dataframe tbody tr th {\n",
       "        vertical-align: top;\n",
       "    }\n",
       "\n",
       "    .dataframe thead th {\n",
       "        text-align: right;\n",
       "    }\n",
       "</style>\n",
       "<table border=\"1\" class=\"dataframe\">\n",
       "  <thead>\n",
       "    <tr style=\"text-align: right;\">\n",
       "      <th></th>\n",
       "      <th>Date</th>\n",
       "      <th>AMZN</th>\n",
       "      <th>DPZ</th>\n",
       "      <th>NFLX</th>\n",
       "      <th>year</th>\n",
       "    </tr>\n",
       "  </thead>\n",
       "  <tbody>\n",
       "    <tr>\n",
       "      <th>0</th>\n",
       "      <td>2013-05-01</td>\n",
       "      <td>248.229996</td>\n",
       "      <td>51.190983</td>\n",
       "      <td>30.415714</td>\n",
       "      <td>2013</td>\n",
       "    </tr>\n",
       "    <tr>\n",
       "      <th>1</th>\n",
       "      <td>2013-05-02</td>\n",
       "      <td>252.550003</td>\n",
       "      <td>51.987320</td>\n",
       "      <td>30.641428</td>\n",
       "      <td>2013</td>\n",
       "    </tr>\n",
       "    <tr>\n",
       "      <th>2</th>\n",
       "      <td>2013-05-03</td>\n",
       "      <td>258.049988</td>\n",
       "      <td>52.446388</td>\n",
       "      <td>30.492857</td>\n",
       "      <td>2013</td>\n",
       "    </tr>\n",
       "    <tr>\n",
       "      <th>3</th>\n",
       "      <td>2013-05-06</td>\n",
       "      <td>255.720001</td>\n",
       "      <td>53.205257</td>\n",
       "      <td>30.098572</td>\n",
       "      <td>2013</td>\n",
       "    </tr>\n",
       "    <tr>\n",
       "      <th>4</th>\n",
       "      <td>2013-05-07</td>\n",
       "      <td>257.730011</td>\n",
       "      <td>54.151505</td>\n",
       "      <td>29.464285</td>\n",
       "      <td>2013</td>\n",
       "    </tr>\n",
       "  </tbody>\n",
       "</table>\n",
       "</div>"
      ],
      "text/plain": [
       "        Date        AMZN        DPZ       NFLX  year\n",
       "0 2013-05-01  248.229996  51.190983  30.415714  2013\n",
       "1 2013-05-02  252.550003  51.987320  30.641428  2013\n",
       "2 2013-05-03  258.049988  52.446388  30.492857  2013\n",
       "3 2013-05-06  255.720001  53.205257  30.098572  2013\n",
       "4 2013-05-07  257.730011  54.151505  29.464285  2013"
      ]
     },
     "metadata": {},
     "output_type": "display_data"
    },
    {
     "name": "stdout",
     "output_type": "stream",
     "text": [
      "\n",
      "Dataset has been saved to 'filtered_portfolio.csv'\n"
     ]
    }
   ],
   "source": [
    "# Import required library\n",
    "import pandas as pd\n",
    "\n",
    "# Read the CSV file\n",
    "df = pd.read_csv('portfolio_data.csv')\n",
    "\n",
    "# Convert Date column to datetime\n",
    "df['Date'] = pd.to_datetime(df['Date'])\n",
    "df['year'] = df['Date'].dt.year\n",
    "\n",
    "# Drop specific years and BTC column\n",
    "final_dataset = df.drop('BTC', axis=1)\n",
    "\n",
    "# Display top 5 rows of the final dataset\n",
    "print(\"\\nFinal Dataset (Top 5 rows):\")\n",
    "display(final_dataset.head())\n",
    "\n",
    "# Optional: Reset index after filtering\n",
    "final_dataset = final_dataset.reset_index(drop=True)\n",
    "\n",
    "# Save the final dataset to CSV\n",
    "final_dataset.to_csv('filtered_portfolio.csv', index=False)\n",
    "print(\"\\nDataset has been saved to 'filtered_portfolio.csv'\")"
   ]
  }
 ],
 "metadata": {
  "language_info": {
   "name": "python"
  }
 },
 "nbformat": 4,
 "nbformat_minor": 2
}
